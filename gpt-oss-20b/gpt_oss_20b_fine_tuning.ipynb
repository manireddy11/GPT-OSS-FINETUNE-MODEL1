  "cells": [
    {
      "cell_type": "markdown",
      "metadata": {
        "id": "intro_section"
         
      },
      "source": [
        "# Fine-tuning GPT-OSS (20B) as a Multilingual Reasoning Model with Unsloth"
      ]
    },
    {
      "cell_type": "markdown",
      "metadata": {
        "id": "why_section"
      },
      "source": [
        "In this notebook, we'll walkthrough how OpenAI's open-weight reasoning model `gpt-oss-20b` can be fine-tuned to **reason effectively in multiple languages**. We'll do this by:\n",
        "1. Fine-tuning with [Unsloth](https://github.com/unslothai/unsloth) for 2x faster training\n",
        "2. Using a multilingual reasoning dataset where chain-of-thought has been translated\n",
        "\n",
        "The end result? A model that can generate reasoning steps in French, Spanish, German, Italian, and other languages. You can even **mix languages**:\n",
        "\n",
        "```\n",
        "User: I buy a book for $15 and a coffee for $4.50. The sales tax is 8%. What is the total cost?\n",
        "System: reasoning language: French\n",
        "\n",
        "Assistant reasoning (in French):\n",
        "L'utilisateur achète un livre pour 15$ et un café pour 4,50$.\n",
        "Le total avant taxes est 15 + 4,50 = 19,50$.\n",
        "La taxe de vente est de 8%, donc 19,50 × 0,08 = 1,56$.\n",
        "Le coût total est 19,50 + 1,56 = 21,06$.\n",
        "\n",
        "Assistant response:\n",
        "The total cost is $21.06.\n",
        "```\n",
        "\n",
        "This enables AI developers working with under-represented languages to improve the interpretability of reasoning models in their native languages."
      ]
    },
    {
      "cell_type": "markdown",
      "metadata": {
        "id": "install_section"
      },
      "source": [
        "### Installation"
      ]
    },
    {
      "cell_type": "code",
      "execution_count": 1,
      "metadata": {
        "id": "install_deps"
      },
      "outputs": [],
      "source": [
        "%%capture\n",
        "# We're installing the latest Torch, Triton, OpenAI's Triton kernels, Transformers and Unsloth!\n",
        "!pip install --upgrade -qqq uv\n",
        "try: import numpy; get_numpy = f\"numpy=={numpy.__version__}\"\n",
        "except: get_numpy = \"numpy\"\n",
        "!uv pip install -qqq \\\n",
        "    \"torch>=2.8.0\" \"triton>=3.4.0\" {get_numpy} torchvision bitsandbytes \\\n",
        "    \"unsloth_zoo[base] @ git+https://github.com/unslothai/unsloth-zoo\" \\\n",
        "    \"unsloth[base] @ git+https://github.com/unslothai/unsloth\" \\\n",
        "    git+https://github.com/huggingface/transformers \\\n",
        "    git+https://github.com/triton-lang/triton.git@05b2c186c1b6c9a08375389d5efe9cb4c401c075#subdirectory=python/triton_kernels"
      ]
    },
    {
      "cell_type": "markdown",
      "metadata": {
        "id": "loading_section"
      },
      "source": [
        "### Loading the Model with Unsloth"
      ]
    },
    {
      "cell_type": "code",
      "execution_count": 2,
      "metadata": {
        "colab": {
          "base_uri": "https://localhost:8080/",
          "height": 560,
